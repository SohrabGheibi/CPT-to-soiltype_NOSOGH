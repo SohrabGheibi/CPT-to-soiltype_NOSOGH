{
 "cells": [
  {
   "cell_type": "markdown",
   "metadata": {},
   "source": [
    "# Exploratory data analysis"
   ]
  },
  {
   "cell_type": "markdown",
   "metadata": {},
   "source": [
    "## Manual exploration of data"
   ]
  },
  {
   "cell_type": "code",
   "execution_count": 21,
   "metadata": {},
   "outputs": [
    {
     "name": "stderr",
     "output_type": "stream",
     "text": [
      "C:\\Users\\NOSOGH\\AppData\\Local\\Temp\\ipykernel_28120\\3802832329.py:3: DtypeWarning: Columns (26) have mixed types. Specify dtype option on import or set low_memory=False.\n",
      "  df = pd.read_csv(FILEPATH)\n"
     ]
    },
    {
     "data": {
      "text/html": [
       "<div>\n",
       "<style scoped>\n",
       "    .dataframe tbody tr th:only-of-type {\n",
       "        vertical-align: middle;\n",
       "    }\n",
       "\n",
       "    .dataframe tbody tr th {\n",
       "        vertical-align: top;\n",
       "    }\n",
       "\n",
       "    .dataframe thead th {\n",
       "        text-align: right;\n",
       "    }\n",
       "</style>\n",
       "<table border=\"1\" class=\"dataframe\">\n",
       "  <thead>\n",
       "    <tr style=\"text-align: right;\">\n",
       "      <th></th>\n",
       "      <th>ID</th>\n",
       "      <th>test_type</th>\n",
       "      <th>basin_valley</th>\n",
       "      <th>Depth (m)</th>\n",
       "      <th>qc (MPa)</th>\n",
       "      <th>fs (kPa)</th>\n",
       "      <th>u2 (kPa)</th>\n",
       "      <th>Vs (m/s)</th>\n",
       "      <th>qt (MPa)</th>\n",
       "      <th>Rf (%)</th>\n",
       "      <th>...</th>\n",
       "      <th>U2 (-)</th>\n",
       "      <th>SBT (-)</th>\n",
       "      <th>SBTn (-)</th>\n",
       "      <th>Mod. SBTn (-)</th>\n",
       "      <th>n</th>\n",
       "      <th>Ic (-)</th>\n",
       "      <th>Ic SBT (-)</th>\n",
       "      <th>Ib (-)</th>\n",
       "      <th>EN_ISO_14688_classes</th>\n",
       "      <th>Oberhollenzer_classes</th>\n",
       "    </tr>\n",
       "  </thead>\n",
       "  <tbody>\n",
       "    <tr>\n",
       "      <th>0</th>\n",
       "      <td>0</td>\n",
       "      <td>CPT</td>\n",
       "      <td>Zell basin</td>\n",
       "      <td>0.02</td>\n",
       "      <td>1.15</td>\n",
       "      <td>1.00</td>\n",
       "      <td>NaN</td>\n",
       "      <td>NaN</td>\n",
       "      <td>1.77</td>\n",
       "      <td>0.06</td>\n",
       "      <td>...</td>\n",
       "      <td>NaN</td>\n",
       "      <td>0.00</td>\n",
       "      <td>0.00</td>\n",
       "      <td>0.00</td>\n",
       "      <td>-0.12</td>\n",
       "      <td>2.56</td>\n",
       "      <td>2.23</td>\n",
       "      <td>25.61</td>\n",
       "      <td>NaN</td>\n",
       "      <td>NaN</td>\n",
       "    </tr>\n",
       "    <tr>\n",
       "      <th>1</th>\n",
       "      <td>0</td>\n",
       "      <td>CPT</td>\n",
       "      <td>Zell basin</td>\n",
       "      <td>0.04</td>\n",
       "      <td>2.85</td>\n",
       "      <td>1.00</td>\n",
       "      <td>NaN</td>\n",
       "      <td>NaN</td>\n",
       "      <td>2.99</td>\n",
       "      <td>0.03</td>\n",
       "      <td>...</td>\n",
       "      <td>NaN</td>\n",
       "      <td>0.00</td>\n",
       "      <td>0.00</td>\n",
       "      <td>0.00</td>\n",
       "      <td>0.33</td>\n",
       "      <td>1.23</td>\n",
       "      <td>2.02</td>\n",
       "      <td>256.60</td>\n",
       "      <td>NaN</td>\n",
       "      <td>NaN</td>\n",
       "    </tr>\n",
       "    <tr>\n",
       "      <th>2</th>\n",
       "      <td>0</td>\n",
       "      <td>CPT</td>\n",
       "      <td>Zell basin</td>\n",
       "      <td>0.06</td>\n",
       "      <td>4.80</td>\n",
       "      <td>1.00</td>\n",
       "      <td>NaN</td>\n",
       "      <td>NaN</td>\n",
       "      <td>4.76</td>\n",
       "      <td>0.06</td>\n",
       "      <td>...</td>\n",
       "      <td>NaN</td>\n",
       "      <td>0.00</td>\n",
       "      <td>0.00</td>\n",
       "      <td>0.00</td>\n",
       "      <td>0.28</td>\n",
       "      <td>1.16</td>\n",
       "      <td>1.80</td>\n",
       "      <td>264.66</td>\n",
       "      <td>NaN</td>\n",
       "      <td>NaN</td>\n",
       "    </tr>\n",
       "    <tr>\n",
       "      <th>3</th>\n",
       "      <td>0</td>\n",
       "      <td>CPT</td>\n",
       "      <td>Zell basin</td>\n",
       "      <td>0.08</td>\n",
       "      <td>6.40</td>\n",
       "      <td>6.00</td>\n",
       "      <td>NaN</td>\n",
       "      <td>NaN</td>\n",
       "      <td>6.12</td>\n",
       "      <td>0.07</td>\n",
       "      <td>...</td>\n",
       "      <td>NaN</td>\n",
       "      <td>0.00</td>\n",
       "      <td>0.00</td>\n",
       "      <td>0.00</td>\n",
       "      <td>0.27</td>\n",
       "      <td>1.12</td>\n",
       "      <td>1.69</td>\n",
       "      <td>275.17</td>\n",
       "      <td>NaN</td>\n",
       "      <td>NaN</td>\n",
       "    </tr>\n",
       "    <tr>\n",
       "      <th>4</th>\n",
       "      <td>0</td>\n",
       "      <td>CPT</td>\n",
       "      <td>Zell basin</td>\n",
       "      <td>0.10</td>\n",
       "      <td>6.90</td>\n",
       "      <td>6.00</td>\n",
       "      <td>NaN</td>\n",
       "      <td>NaN</td>\n",
       "      <td>6.91</td>\n",
       "      <td>0.10</td>\n",
       "      <td>...</td>\n",
       "      <td>NaN</td>\n",
       "      <td>0.00</td>\n",
       "      <td>0.00</td>\n",
       "      <td>0.00</td>\n",
       "      <td>0.27</td>\n",
       "      <td>1.11</td>\n",
       "      <td>1.65</td>\n",
       "      <td>267.92</td>\n",
       "      <td>NaN</td>\n",
       "      <td>NaN</td>\n",
       "    </tr>\n",
       "  </tbody>\n",
       "</table>\n",
       "<p>5 rows × 28 columns</p>\n",
       "</div>"
      ],
      "text/plain": [
       "   ID test_type basin_valley  Depth (m)  qc (MPa)  fs (kPa)  u2 (kPa)  \\\n",
       "0   0       CPT   Zell basin       0.02      1.15      1.00       NaN   \n",
       "1   0       CPT   Zell basin       0.04      2.85      1.00       NaN   \n",
       "2   0       CPT   Zell basin       0.06      4.80      1.00       NaN   \n",
       "3   0       CPT   Zell basin       0.08      6.40      6.00       NaN   \n",
       "4   0       CPT   Zell basin       0.10      6.90      6.00       NaN   \n",
       "\n",
       "   Vs (m/s)  qt (MPa)  Rf (%)  ...  U2 (-)  SBT (-)  SBTn (-)  Mod. SBTn (-)  \\\n",
       "0       NaN      1.77    0.06  ...     NaN     0.00      0.00           0.00   \n",
       "1       NaN      2.99    0.03  ...     NaN     0.00      0.00           0.00   \n",
       "2       NaN      4.76    0.06  ...     NaN     0.00      0.00           0.00   \n",
       "3       NaN      6.12    0.07  ...     NaN     0.00      0.00           0.00   \n",
       "4       NaN      6.91    0.10  ...     NaN     0.00      0.00           0.00   \n",
       "\n",
       "      n  Ic (-)  Ic SBT (-)  Ib (-)  EN_ISO_14688_classes  \\\n",
       "0 -0.12    2.56        2.23   25.61                   NaN   \n",
       "1  0.33    1.23        2.02  256.60                   NaN   \n",
       "2  0.28    1.16        1.80  264.66                   NaN   \n",
       "3  0.27    1.12        1.69  275.17                   NaN   \n",
       "4  0.27    1.11        1.65  267.92                   NaN   \n",
       "\n",
       "   Oberhollenzer_classes  \n",
       "0                    NaN  \n",
       "1                    NaN  \n",
       "2                    NaN  \n",
       "3                    NaN  \n",
       "4                    NaN  \n",
       "\n",
       "[5 rows x 28 columns]"
      ]
     },
     "execution_count": 21,
     "metadata": {},
     "output_type": "execute_result"
    }
   ],
   "source": [
    "import pandas as pd\n",
    "FILEPATH = '../Data/raw/mmc1.csv'\n",
    "df = pd.read_csv(FILEPATH)\n",
    "df.head()"
   ]
  },
  {
   "cell_type": "code",
   "execution_count": 2,
   "metadata": {},
   "outputs": [
    {
     "data": {
      "text/plain": [
       "Index(['ID', 'test_type', 'basin_valley', 'Depth (m)', 'qc (MPa)', 'fs (kPa)',\n",
       "       'u2 (kPa)', 'Vs (m/s)', 'qt (MPa)', 'Rf (%)', 'γ (kN/m³)', 'σ,v (kPa)',\n",
       "       'u0 (kPa)', 'σ',v (kPa)', 'Qt (-)', 'Qtn (-)', 'Fr (%)', 'Bq (-)',\n",
       "       'U2 (-)', 'SBT (-)', 'SBTn (-)', 'Mod. SBTn (-)', 'n', 'Ic (-)',\n",
       "       'Ic SBT (-)', 'Ib (-)', 'EN_ISO_14688_classes',\n",
       "       'Oberhollenzer_classes'],\n",
       "      dtype='object')"
      ]
     },
     "execution_count": 2,
     "metadata": {},
     "output_type": "execute_result"
    }
   ],
   "source": [
    "df.columns"
   ]
  },
  {
   "cell_type": "code",
   "execution_count": 3,
   "metadata": {},
   "outputs": [
    {
     "name": "stdout",
     "output_type": "stream",
     "text": [
      "<class 'pandas.core.frame.DataFrame'>\n",
      "RangeIndex: 2516979 entries, 0 to 2516978\n",
      "Data columns (total 28 columns):\n",
      " #   Column                 Dtype  \n",
      "---  ------                 -----  \n",
      " 0   ID                     int64  \n",
      " 1   test_type              object \n",
      " 2   basin_valley           object \n",
      " 3   Depth (m)              float64\n",
      " 4   qc (MPa)               float64\n",
      " 5   fs (kPa)               float64\n",
      " 6   u2 (kPa)               float64\n",
      " 7   Vs (m/s)               float64\n",
      " 8   qt (MPa)               float64\n",
      " 9   Rf (%)                 float64\n",
      " 10  γ (kN/m³)              float64\n",
      " 11  σ,v (kPa)              float64\n",
      " 12  u0 (kPa)               float64\n",
      " 13  σ',v (kPa)             float64\n",
      " 14  Qt (-)                 float64\n",
      " 15  Qtn (-)                float64\n",
      " 16  Fr (%)                 float64\n",
      " 17  Bq (-)                 float64\n",
      " 18  U2 (-)                 float64\n",
      " 19  SBT (-)                float64\n",
      " 20  SBTn (-)               float64\n",
      " 21  Mod. SBTn (-)          float64\n",
      " 22  n                      float64\n",
      " 23  Ic (-)                 float64\n",
      " 24  Ic SBT (-)             float64\n",
      " 25  Ib (-)                 float64\n",
      " 26  EN_ISO_14688_classes   object \n",
      " 27  Oberhollenzer_classes  float64\n",
      "dtypes: float64(24), int64(1), object(3)\n",
      "memory usage: 537.7+ MB\n"
     ]
    }
   ],
   "source": [
    "df.info()"
   ]
  },
  {
   "cell_type": "markdown",
   "metadata": {},
   "source": [
    "Features defined by Rauter and Tschuchnigg (2019). Note: several features are derived feature engineered features.\n",
    "- Derived from other features: 'Rf (%)', 'Qt (-)', 'Qtn (-)', 'Fr (%)'\n",
    "- Calculated: 'γ (kN/m³)', 'σ,v (kPa)',\n",
    "       'u0 (kPa)', 'σ',v (kPa)', 'Depth (m)'\n",
    "- Measured: 'qc (MPa)', 'fs (kPa)'"
   ]
  },
  {
   "cell_type": "code",
   "execution_count": 22,
   "metadata": {},
   "outputs": [
    {
     "data": {
      "text/html": [
       "<div>\n",
       "<style scoped>\n",
       "    .dataframe tbody tr th:only-of-type {\n",
       "        vertical-align: middle;\n",
       "    }\n",
       "\n",
       "    .dataframe tbody tr th {\n",
       "        vertical-align: top;\n",
       "    }\n",
       "\n",
       "    .dataframe thead th {\n",
       "        text-align: right;\n",
       "    }\n",
       "</style>\n",
       "<table border=\"1\" class=\"dataframe\">\n",
       "  <thead>\n",
       "    <tr style=\"text-align: right;\">\n",
       "      <th></th>\n",
       "      <th>ID</th>\n",
       "      <th>test_type</th>\n",
       "      <th>basin_valley</th>\n",
       "      <th>Depth (m)</th>\n",
       "      <th>qc (MPa)</th>\n",
       "      <th>fs (kPa)</th>\n",
       "      <th>Rf (%)</th>\n",
       "      <th>σ,v (kPa)</th>\n",
       "      <th>u0 (kPa)</th>\n",
       "      <th>σ',v (kPa)</th>\n",
       "      <th>Qtn (-)</th>\n",
       "      <th>Fr (%)</th>\n",
       "      <th>Oberhollenzer_classes</th>\n",
       "    </tr>\n",
       "  </thead>\n",
       "  <tbody>\n",
       "    <tr>\n",
       "      <th>0</th>\n",
       "      <td>0</td>\n",
       "      <td>CPT</td>\n",
       "      <td>Zell basin</td>\n",
       "      <td>0.02</td>\n",
       "      <td>1.15</td>\n",
       "      <td>1.00</td>\n",
       "      <td>0.06</td>\n",
       "      <td>0.38</td>\n",
       "      <td>0.20</td>\n",
       "      <td>0.18</td>\n",
       "      <td>8.04</td>\n",
       "      <td>0.06</td>\n",
       "      <td>NaN</td>\n",
       "    </tr>\n",
       "    <tr>\n",
       "      <th>1</th>\n",
       "      <td>0</td>\n",
       "      <td>CPT</td>\n",
       "      <td>Zell basin</td>\n",
       "      <td>0.04</td>\n",
       "      <td>2.85</td>\n",
       "      <td>1.00</td>\n",
       "      <td>0.03</td>\n",
       "      <td>0.76</td>\n",
       "      <td>0.39</td>\n",
       "      <td>0.37</td>\n",
       "      <td>185.53</td>\n",
       "      <td>0.03</td>\n",
       "      <td>NaN</td>\n",
       "    </tr>\n",
       "    <tr>\n",
       "      <th>2</th>\n",
       "      <td>0</td>\n",
       "      <td>CPT</td>\n",
       "      <td>Zell basin</td>\n",
       "      <td>0.06</td>\n",
       "      <td>4.80</td>\n",
       "      <td>1.00</td>\n",
       "      <td>0.06</td>\n",
       "      <td>1.14</td>\n",
       "      <td>0.59</td>\n",
       "      <td>0.55</td>\n",
       "      <td>205.79</td>\n",
       "      <td>0.06</td>\n",
       "      <td>NaN</td>\n",
       "    </tr>\n",
       "    <tr>\n",
       "      <th>3</th>\n",
       "      <td>0</td>\n",
       "      <td>CPT</td>\n",
       "      <td>Zell basin</td>\n",
       "      <td>0.08</td>\n",
       "      <td>6.40</td>\n",
       "      <td>6.00</td>\n",
       "      <td>0.07</td>\n",
       "      <td>1.52</td>\n",
       "      <td>0.78</td>\n",
       "      <td>0.74</td>\n",
       "      <td>226.79</td>\n",
       "      <td>0.07</td>\n",
       "      <td>NaN</td>\n",
       "    </tr>\n",
       "    <tr>\n",
       "      <th>4</th>\n",
       "      <td>0</td>\n",
       "      <td>CPT</td>\n",
       "      <td>Zell basin</td>\n",
       "      <td>0.10</td>\n",
       "      <td>6.90</td>\n",
       "      <td>6.00</td>\n",
       "      <td>0.10</td>\n",
       "      <td>1.90</td>\n",
       "      <td>0.98</td>\n",
       "      <td>0.92</td>\n",
       "      <td>239.52</td>\n",
       "      <td>0.10</td>\n",
       "      <td>NaN</td>\n",
       "    </tr>\n",
       "  </tbody>\n",
       "</table>\n",
       "</div>"
      ],
      "text/plain": [
       "   ID test_type basin_valley  Depth (m)  qc (MPa)  fs (kPa)  Rf (%)  \\\n",
       "0   0       CPT   Zell basin       0.02      1.15      1.00    0.06   \n",
       "1   0       CPT   Zell basin       0.04      2.85      1.00    0.03   \n",
       "2   0       CPT   Zell basin       0.06      4.80      1.00    0.06   \n",
       "3   0       CPT   Zell basin       0.08      6.40      6.00    0.07   \n",
       "4   0       CPT   Zell basin       0.10      6.90      6.00    0.10   \n",
       "\n",
       "   σ,v (kPa)  u0 (kPa)  σ',v (kPa)  Qtn (-)  Fr (%)  Oberhollenzer_classes  \n",
       "0       0.38      0.20        0.18     8.04    0.06                    NaN  \n",
       "1       0.76      0.39        0.37   185.53    0.03                    NaN  \n",
       "2       1.14      0.59        0.55   205.79    0.06                    NaN  \n",
       "3       1.52      0.78        0.74   226.79    0.07                    NaN  \n",
       "4       1.90      0.98        0.92   239.52    0.10                    NaN  "
      ]
     },
     "execution_count": 22,
     "metadata": {},
     "output_type": "execute_result"
    }
   ],
   "source": [
    "FEATURES = ['Depth (m)', 'qc (MPa)', 'fs (kPa)','Rf (%)', 'σ,v (kPa)', 'u0 (kPa)',\"σ',v (kPa)\", 'Qtn (-)', 'Fr (%)']\n",
    "SITE_INFO = ['ID', 'test_type', 'basin_valley']\n",
    "LABELS_O = ['Oberhollenzer_classes']\n",
    "df = df.loc[:,SITE_INFO + FEATURES + LABELS_O]\n",
    "df.head()"
   ]
  },
  {
   "cell_type": "code",
   "execution_count": 5,
   "metadata": {},
   "outputs": [
    {
     "data": {
      "text/plain": [
       "ID                             0\n",
       "test_type                      0\n",
       "basin_valley                   0\n",
       "Depth (m)                      0\n",
       "qc (MPa)                     817\n",
       "fs (kPa)                    1533\n",
       "Rf (%)                      1316\n",
       "σ,v (kPa)                    127\n",
       "u0 (kPa)                     127\n",
       "σ',v (kPa)                   127\n",
       "Qtn (-)                      214\n",
       "Fr (%)                      2704\n",
       "Oberhollenzer_classes    1486510\n",
       "dtype: int64"
      ]
     },
     "execution_count": 5,
     "metadata": {},
     "output_type": "execute_result"
    }
   ],
   "source": [
    "df.isnull().sum()"
   ]
  },
  {
   "cell_type": "code",
   "execution_count": 23,
   "metadata": {},
   "outputs": [
    {
     "data": {
      "text/html": [
       "<div>\n",
       "<style scoped>\n",
       "    .dataframe tbody tr th:only-of-type {\n",
       "        vertical-align: middle;\n",
       "    }\n",
       "\n",
       "    .dataframe tbody tr th {\n",
       "        vertical-align: top;\n",
       "    }\n",
       "\n",
       "    .dataframe thead th {\n",
       "        text-align: right;\n",
       "    }\n",
       "</style>\n",
       "<table border=\"1\" class=\"dataframe\">\n",
       "  <thead>\n",
       "    <tr style=\"text-align: right;\">\n",
       "      <th></th>\n",
       "      <th>ID</th>\n",
       "      <th>test_type</th>\n",
       "      <th>basin_valley</th>\n",
       "      <th>Depth (m)</th>\n",
       "      <th>qc (MPa)</th>\n",
       "      <th>fs (kPa)</th>\n",
       "      <th>Rf (%)</th>\n",
       "      <th>σ,v (kPa)</th>\n",
       "      <th>u0 (kPa)</th>\n",
       "      <th>σ',v (kPa)</th>\n",
       "      <th>Qtn (-)</th>\n",
       "      <th>Fr (%)</th>\n",
       "      <th>Oberhollenzer_classes</th>\n",
       "    </tr>\n",
       "  </thead>\n",
       "  <tbody>\n",
       "    <tr>\n",
       "      <th>1486510</th>\n",
       "      <td>849</td>\n",
       "      <td>CPT</td>\n",
       "      <td>Zell basin</td>\n",
       "      <td>0.01</td>\n",
       "      <td>0.00</td>\n",
       "      <td>0.00</td>\n",
       "      <td>0.00</td>\n",
       "      <td>0.19</td>\n",
       "      <td>0.10</td>\n",
       "      <td>0.09</td>\n",
       "      <td>-27.09</td>\n",
       "      <td>0.00</td>\n",
       "      <td>4.00</td>\n",
       "    </tr>\n",
       "    <tr>\n",
       "      <th>1486511</th>\n",
       "      <td>849</td>\n",
       "      <td>CPT</td>\n",
       "      <td>Zell basin</td>\n",
       "      <td>0.02</td>\n",
       "      <td>0.00</td>\n",
       "      <td>0.00</td>\n",
       "      <td>0.00</td>\n",
       "      <td>0.38</td>\n",
       "      <td>0.20</td>\n",
       "      <td>0.18</td>\n",
       "      <td>-14.58</td>\n",
       "      <td>0.00</td>\n",
       "      <td>4.00</td>\n",
       "    </tr>\n",
       "    <tr>\n",
       "      <th>1486512</th>\n",
       "      <td>849</td>\n",
       "      <td>CPT</td>\n",
       "      <td>Zell basin</td>\n",
       "      <td>0.03</td>\n",
       "      <td>0.00</td>\n",
       "      <td>0.00</td>\n",
       "      <td>0.00</td>\n",
       "      <td>0.57</td>\n",
       "      <td>0.29</td>\n",
       "      <td>0.28</td>\n",
       "      <td>-10.41</td>\n",
       "      <td>0.00</td>\n",
       "      <td>4.00</td>\n",
       "    </tr>\n",
       "    <tr>\n",
       "      <th>1486513</th>\n",
       "      <td>849</td>\n",
       "      <td>CPT</td>\n",
       "      <td>Zell basin</td>\n",
       "      <td>0.04</td>\n",
       "      <td>0.00</td>\n",
       "      <td>0.00</td>\n",
       "      <td>0.00</td>\n",
       "      <td>0.76</td>\n",
       "      <td>0.39</td>\n",
       "      <td>0.37</td>\n",
       "      <td>-8.32</td>\n",
       "      <td>0.00</td>\n",
       "      <td>4.00</td>\n",
       "    </tr>\n",
       "    <tr>\n",
       "      <th>1486514</th>\n",
       "      <td>849</td>\n",
       "      <td>CPT</td>\n",
       "      <td>Zell basin</td>\n",
       "      <td>0.05</td>\n",
       "      <td>0.00</td>\n",
       "      <td>0.00</td>\n",
       "      <td>0.00</td>\n",
       "      <td>0.95</td>\n",
       "      <td>0.49</td>\n",
       "      <td>0.46</td>\n",
       "      <td>-7.07</td>\n",
       "      <td>0.00</td>\n",
       "      <td>4.00</td>\n",
       "    </tr>\n",
       "  </tbody>\n",
       "</table>\n",
       "</div>"
      ],
      "text/plain": [
       "          ID test_type basin_valley  Depth (m)  qc (MPa)  fs (kPa)  Rf (%)  \\\n",
       "1486510  849       CPT   Zell basin       0.01      0.00      0.00    0.00   \n",
       "1486511  849       CPT   Zell basin       0.02      0.00      0.00    0.00   \n",
       "1486512  849       CPT   Zell basin       0.03      0.00      0.00    0.00   \n",
       "1486513  849       CPT   Zell basin       0.04      0.00      0.00    0.00   \n",
       "1486514  849       CPT   Zell basin       0.05      0.00      0.00    0.00   \n",
       "\n",
       "         σ,v (kPa)  u0 (kPa)  σ',v (kPa)  Qtn (-)  Fr (%)  \\\n",
       "1486510       0.19      0.10        0.09   -27.09    0.00   \n",
       "1486511       0.38      0.20        0.18   -14.58    0.00   \n",
       "1486512       0.57      0.29        0.28   -10.41    0.00   \n",
       "1486513       0.76      0.39        0.37    -8.32    0.00   \n",
       "1486514       0.95      0.49        0.46    -7.07    0.00   \n",
       "\n",
       "         Oberhollenzer_classes  \n",
       "1486510                   4.00  \n",
       "1486511                   4.00  \n",
       "1486512                   4.00  \n",
       "1486513                   4.00  \n",
       "1486514                   4.00  "
      ]
     },
     "execution_count": 23,
     "metadata": {},
     "output_type": "execute_result"
    }
   ],
   "source": [
    "df = df.dropna()\n",
    "df.head()"
   ]
  },
  {
   "cell_type": "code",
   "execution_count": 7,
   "metadata": {},
   "outputs": [
    {
     "data": {
      "text/plain": [
       "(1028487, 13)"
      ]
     },
     "execution_count": 7,
     "metadata": {},
     "output_type": "execute_result"
    }
   ],
   "source": [
    "df.shape"
   ]
  },
  {
   "cell_type": "markdown",
   "metadata": {},
   "source": [
    "The balance of the target label"
   ]
  },
  {
   "cell_type": "code",
   "execution_count": 9,
   "metadata": {},
   "outputs": [
    {
     "data": {
      "text/plain": [
       "Oberhollenzer_classes\n",
       "5.0    208247\n",
       "2.0    192904\n",
       "6.0    180407\n",
       "7.0    163684\n",
       "1.0     99211\n",
       "4.0     98749\n",
       "0.0     78436\n",
       "3.0      6849\n",
       "Name: count, dtype: int64"
      ]
     },
     "execution_count": 9,
     "metadata": {},
     "output_type": "execute_result"
    }
   ],
   "source": [
    "df[\"Oberhollenzer_classes\"].value_counts()"
   ]
  },
  {
   "cell_type": "code",
   "execution_count": 10,
   "metadata": {},
   "outputs": [
    {
     "data": {
      "text/plain": [
       "basin_valley\n",
       "Salzburg basin                   512548\n",
       "Zell basin                       284332\n",
       "Flachgau                          89744\n",
       "Upper Salzach valley              39410\n",
       "Saalfelden basin                  28005\n",
       "Lower Salzach valley              19503\n",
       "Gastein valley                    13694\n",
       "Wildschönau region                10871\n",
       "Pinzgau Saalach valley             8209\n",
       "Hallein basin                      7185\n",
       "Enns valley - Radtstadt basin      6160\n",
       "Pinzgau (Hinterthal, Dienten)      3495\n",
       "Eisenstadt-Sopron basin            2544\n",
       "Abtenau basin                      2077\n",
       "Glemm valley                        710\n",
       "Name: count, dtype: int64"
      ]
     },
     "execution_count": 10,
     "metadata": {},
     "output_type": "execute_result"
    }
   ],
   "source": [
    "df[\"basin_valley\"].value_counts()"
   ]
  },
  {
   "cell_type": "code",
   "execution_count": 11,
   "metadata": {},
   "outputs": [
    {
     "data": {
      "text/html": [
       "<div>\n",
       "<style scoped>\n",
       "    .dataframe tbody tr th:only-of-type {\n",
       "        vertical-align: middle;\n",
       "    }\n",
       "\n",
       "    .dataframe tbody tr th {\n",
       "        vertical-align: top;\n",
       "    }\n",
       "\n",
       "    .dataframe thead th {\n",
       "        text-align: right;\n",
       "    }\n",
       "</style>\n",
       "<table border=\"1\" class=\"dataframe\">\n",
       "  <thead>\n",
       "    <tr style=\"text-align: right;\">\n",
       "      <th></th>\n",
       "      <th>Depth (m)</th>\n",
       "      <th>qc (MPa)</th>\n",
       "      <th>fs (kPa)</th>\n",
       "      <th>Rf (%)</th>\n",
       "      <th>σ,v (kPa)</th>\n",
       "      <th>u0 (kPa)</th>\n",
       "      <th>σ',v (kPa)</th>\n",
       "      <th>Qtn (-)</th>\n",
       "      <th>Fr (%)</th>\n",
       "    </tr>\n",
       "  </thead>\n",
       "  <tbody>\n",
       "    <tr>\n",
       "      <th>count</th>\n",
       "      <td>1028487.00</td>\n",
       "      <td>1028487.00</td>\n",
       "      <td>1028487.00</td>\n",
       "      <td>1028487.00</td>\n",
       "      <td>1028487.00</td>\n",
       "      <td>1028487.00</td>\n",
       "      <td>1028487.00</td>\n",
       "      <td>1028487.00</td>\n",
       "      <td>1028487.00</td>\n",
       "    </tr>\n",
       "    <tr>\n",
       "      <th>mean</th>\n",
       "      <td>13.23</td>\n",
       "      <td>5.33</td>\n",
       "      <td>54.61</td>\n",
       "      <td>2.39</td>\n",
       "      <td>251.30</td>\n",
       "      <td>122.64</td>\n",
       "      <td>128.66</td>\n",
       "      <td>62.94</td>\n",
       "      <td>3.56</td>\n",
       "    </tr>\n",
       "    <tr>\n",
       "      <th>std</th>\n",
       "      <td>10.57</td>\n",
       "      <td>8.39</td>\n",
       "      <td>70.30</td>\n",
       "      <td>35.10</td>\n",
       "      <td>200.74</td>\n",
       "      <td>103.14</td>\n",
       "      <td>99.58</td>\n",
       "      <td>118.64</td>\n",
       "      <td>81.37</td>\n",
       "    </tr>\n",
       "    <tr>\n",
       "      <th>min</th>\n",
       "      <td>0.01</td>\n",
       "      <td>-1.37</td>\n",
       "      <td>-99.90</td>\n",
       "      <td>-100.00</td>\n",
       "      <td>0.19</td>\n",
       "      <td>0.00</td>\n",
       "      <td>0.09</td>\n",
       "      <td>-127.57</td>\n",
       "      <td>-100.00</td>\n",
       "    </tr>\n",
       "    <tr>\n",
       "      <th>25%</th>\n",
       "      <td>5.32</td>\n",
       "      <td>0.96</td>\n",
       "      <td>16.20</td>\n",
       "      <td>0.69</td>\n",
       "      <td>101.08</td>\n",
       "      <td>45.71</td>\n",
       "      <td>54.13</td>\n",
       "      <td>5.19</td>\n",
       "      <td>0.75</td>\n",
       "    </tr>\n",
       "    <tr>\n",
       "      <th>50%</th>\n",
       "      <td>11.06</td>\n",
       "      <td>2.30</td>\n",
       "      <td>32.50</td>\n",
       "      <td>1.37</td>\n",
       "      <td>210.14</td>\n",
       "      <td>101.14</td>\n",
       "      <td>108.90</td>\n",
       "      <td>22.47</td>\n",
       "      <td>1.68</td>\n",
       "    </tr>\n",
       "    <tr>\n",
       "      <th>75%</th>\n",
       "      <td>18.07</td>\n",
       "      <td>5.98</td>\n",
       "      <td>66.00</td>\n",
       "      <td>2.48</td>\n",
       "      <td>343.33</td>\n",
       "      <td>170.11</td>\n",
       "      <td>174.70</td>\n",
       "      <td>60.56</td>\n",
       "      <td>3.34</td>\n",
       "    </tr>\n",
       "    <tr>\n",
       "      <th>max</th>\n",
       "      <td>75.92</td>\n",
       "      <td>101.73</td>\n",
       "      <td>1591.40</td>\n",
       "      <td>22000.00</td>\n",
       "      <td>1442.48</td>\n",
       "      <td>744.78</td>\n",
       "      <td>697.70</td>\n",
       "      <td>1001.00</td>\n",
       "      <td>33166.67</td>\n",
       "    </tr>\n",
       "  </tbody>\n",
       "</table>\n",
       "</div>"
      ],
      "text/plain": [
       "       Depth (m)   qc (MPa)   fs (kPa)     Rf (%)  σ,v (kPa)   u0 (kPa)  \\\n",
       "count 1028487.00 1028487.00 1028487.00 1028487.00 1028487.00 1028487.00   \n",
       "mean       13.23       5.33      54.61       2.39     251.30     122.64   \n",
       "std        10.57       8.39      70.30      35.10     200.74     103.14   \n",
       "min         0.01      -1.37     -99.90    -100.00       0.19       0.00   \n",
       "25%         5.32       0.96      16.20       0.69     101.08      45.71   \n",
       "50%        11.06       2.30      32.50       1.37     210.14     101.14   \n",
       "75%        18.07       5.98      66.00       2.48     343.33     170.11   \n",
       "max        75.92     101.73    1591.40   22000.00    1442.48     744.78   \n",
       "\n",
       "       σ',v (kPa)    Qtn (-)     Fr (%)  \n",
       "count  1028487.00 1028487.00 1028487.00  \n",
       "mean       128.66      62.94       3.56  \n",
       "std         99.58     118.64      81.37  \n",
       "min          0.09    -127.57    -100.00  \n",
       "25%         54.13       5.19       0.75  \n",
       "50%        108.90      22.47       1.68  \n",
       "75%        174.70      60.56       3.34  \n",
       "max        697.70    1001.00   33166.67  "
      ]
     },
     "execution_count": 11,
     "metadata": {},
     "output_type": "execute_result"
    }
   ],
   "source": [
    "# run describe on the numberical features\n",
    "pd.set_option('display.float_format', '{:.2f}'.format)\n",
    "numeric_features = df[FEATURES].select_dtypes(include=[\"number\"]).columns\n",
    "df[numeric_features].describe()\n",
    "# pd.reset_option('display.float_format')"
   ]
  },
  {
   "cell_type": "markdown",
   "metadata": {},
   "source": [
    "## Automated EDA"
   ]
  },
  {
   "cell_type": "markdown",
   "metadata": {},
   "source": [
    "ydata-profiling for automated EDA"
   ]
  },
  {
   "cell_type": "code",
   "execution_count": 12,
   "metadata": {},
   "outputs": [
    {
     "data": {
      "text/html": [
       "<div>\n",
       "<style scoped>\n",
       "    .dataframe tbody tr th:only-of-type {\n",
       "        vertical-align: middle;\n",
       "    }\n",
       "\n",
       "    .dataframe tbody tr th {\n",
       "        vertical-align: top;\n",
       "    }\n",
       "\n",
       "    .dataframe thead th {\n",
       "        text-align: right;\n",
       "    }\n",
       "</style>\n",
       "<table border=\"1\" class=\"dataframe\">\n",
       "  <thead>\n",
       "    <tr style=\"text-align: right;\">\n",
       "      <th></th>\n",
       "      <th>Depth (m)</th>\n",
       "      <th>qc (MPa)</th>\n",
       "      <th>fs (kPa)</th>\n",
       "      <th>Rf (%)</th>\n",
       "      <th>σ,v (kPa)</th>\n",
       "      <th>u0 (kPa)</th>\n",
       "      <th>σ',v (kPa)</th>\n",
       "      <th>Qtn (-)</th>\n",
       "      <th>Fr (%)</th>\n",
       "      <th>Oberhollenzer_classes</th>\n",
       "    </tr>\n",
       "  </thead>\n",
       "  <tbody>\n",
       "    <tr>\n",
       "      <th>1486510</th>\n",
       "      <td>0.01</td>\n",
       "      <td>0.00</td>\n",
       "      <td>0.00</td>\n",
       "      <td>0.00</td>\n",
       "      <td>0.19</td>\n",
       "      <td>0.10</td>\n",
       "      <td>0.09</td>\n",
       "      <td>-27.09</td>\n",
       "      <td>0.00</td>\n",
       "      <td>4.00</td>\n",
       "    </tr>\n",
       "    <tr>\n",
       "      <th>1486511</th>\n",
       "      <td>0.02</td>\n",
       "      <td>0.00</td>\n",
       "      <td>0.00</td>\n",
       "      <td>0.00</td>\n",
       "      <td>0.38</td>\n",
       "      <td>0.20</td>\n",
       "      <td>0.18</td>\n",
       "      <td>-14.58</td>\n",
       "      <td>0.00</td>\n",
       "      <td>4.00</td>\n",
       "    </tr>\n",
       "    <tr>\n",
       "      <th>1486512</th>\n",
       "      <td>0.03</td>\n",
       "      <td>0.00</td>\n",
       "      <td>0.00</td>\n",
       "      <td>0.00</td>\n",
       "      <td>0.57</td>\n",
       "      <td>0.29</td>\n",
       "      <td>0.28</td>\n",
       "      <td>-10.41</td>\n",
       "      <td>0.00</td>\n",
       "      <td>4.00</td>\n",
       "    </tr>\n",
       "    <tr>\n",
       "      <th>1486513</th>\n",
       "      <td>0.04</td>\n",
       "      <td>0.00</td>\n",
       "      <td>0.00</td>\n",
       "      <td>0.00</td>\n",
       "      <td>0.76</td>\n",
       "      <td>0.39</td>\n",
       "      <td>0.37</td>\n",
       "      <td>-8.32</td>\n",
       "      <td>0.00</td>\n",
       "      <td>4.00</td>\n",
       "    </tr>\n",
       "    <tr>\n",
       "      <th>1486514</th>\n",
       "      <td>0.05</td>\n",
       "      <td>0.00</td>\n",
       "      <td>0.00</td>\n",
       "      <td>0.00</td>\n",
       "      <td>0.95</td>\n",
       "      <td>0.49</td>\n",
       "      <td>0.46</td>\n",
       "      <td>-7.07</td>\n",
       "      <td>0.00</td>\n",
       "      <td>4.00</td>\n",
       "    </tr>\n",
       "  </tbody>\n",
       "</table>\n",
       "</div>"
      ],
      "text/plain": [
       "         Depth (m)  qc (MPa)  fs (kPa)  Rf (%)  σ,v (kPa)  u0 (kPa)  \\\n",
       "1486510       0.01      0.00      0.00    0.00       0.19      0.10   \n",
       "1486511       0.02      0.00      0.00    0.00       0.38      0.20   \n",
       "1486512       0.03      0.00      0.00    0.00       0.57      0.29   \n",
       "1486513       0.04      0.00      0.00    0.00       0.76      0.39   \n",
       "1486514       0.05      0.00      0.00    0.00       0.95      0.49   \n",
       "\n",
       "         σ',v (kPa)  Qtn (-)  Fr (%)  Oberhollenzer_classes  \n",
       "1486510        0.09   -27.09    0.00                   4.00  \n",
       "1486511        0.18   -14.58    0.00                   4.00  \n",
       "1486512        0.28   -10.41    0.00                   4.00  \n",
       "1486513        0.37    -8.32    0.00                   4.00  \n",
       "1486514        0.46    -7.07    0.00                   4.00  "
      ]
     },
     "execution_count": 12,
     "metadata": {},
     "output_type": "execute_result"
    }
   ],
   "source": [
    "dfy = df.copy()[FEATURES + LABELS_O]\n",
    "dfy.head()"
   ]
  },
  {
   "cell_type": "code",
   "execution_count": 13,
   "metadata": {},
   "outputs": [
    {
     "name": "stdout",
     "output_type": "stream",
     "text": [
      "<class 'pandas.core.frame.DataFrame'>\n",
      "Index: 1028487 entries, 1486510 to 2516978\n",
      "Data columns (total 10 columns):\n",
      " #   Column                 Non-Null Count    Dtype  \n",
      "---  ------                 --------------    -----  \n",
      " 0   Depth (m)              1028487 non-null  float64\n",
      " 1   qc (MPa)               1028487 non-null  float64\n",
      " 2   fs (kPa)               1028487 non-null  float64\n",
      " 3   Rf (%)                 1028487 non-null  float64\n",
      " 4   σ,v (kPa)              1028487 non-null  float64\n",
      " 5   u0 (kPa)               1028487 non-null  float64\n",
      " 6   σ',v (kPa)             1028487 non-null  float64\n",
      " 7   Qtn (-)                1028487 non-null  float64\n",
      " 8   Fr (%)                 1028487 non-null  float64\n",
      " 9   Oberhollenzer_classes  1028487 non-null  object \n",
      "dtypes: float64(9), object(1)\n",
      "memory usage: 86.3+ MB\n"
     ]
    }
   ],
   "source": [
    "# Change type of labels to strings, so ydata-profiling interprets it as a categorical variable.\n",
    "dfy['Oberhollenzer_classes'] = dfy['Oberhollenzer_classes'].astype(str)\n",
    "dfy.info()"
   ]
  },
  {
   "cell_type": "code",
   "execution_count": 15,
   "metadata": {},
   "outputs": [
    {
     "name": "stdout",
     "output_type": "stream",
     "text": [
      "<class 'pandas.core.frame.DataFrame'>\n",
      "Index: 1028487 entries, 1486510 to 2516978\n",
      "Data columns (total 10 columns):\n",
      " #   Column                 Non-Null Count    Dtype  \n",
      "---  ------                 --------------    -----  \n",
      " 0   Depth (m)              1028487 non-null  float64\n",
      " 1   qc (MPa)               1028487 non-null  float64\n",
      " 2   fs (kPa)               1028487 non-null  float64\n",
      " 3   Rf (%)                 1028487 non-null  float64\n",
      " 4   σ,v (kPa)              1028487 non-null  float64\n",
      " 5   u0 (kPa)               1028487 non-null  float64\n",
      " 6   σ',v (kPa)             1028487 non-null  float64\n",
      " 7   Qtn (-)                1028487 non-null  float64\n",
      " 8   Fr (%)                 1028487 non-null  float64\n",
      " 9   Oberhollenzer_classes  1028487 non-null  object \n",
      "dtypes: float64(9), object(1)\n",
      "memory usage: 86.3+ MB\n"
     ]
    }
   ],
   "source": [
    "dfy.info()"
   ]
  },
  {
   "cell_type": "code",
   "execution_count": 14,
   "metadata": {},
   "outputs": [
    {
     "name": "stderr",
     "output_type": "stream",
     "text": [
      "c:\\Users\\NOSOGH\\AppData\\Local\\pypoetry\\Cache\\virtualenvs\\cpt-to-soiltype-KPmae4HV-py3.11\\Lib\\site-packages\\tqdm\\auto.py:21: TqdmWarning: IProgress not found. Please update jupyter and ipywidgets. See https://ipywidgets.readthedocs.io/en/stable/user_install.html\n",
      "  from .autonotebook import tqdm as notebook_tqdm\n",
      "Summarize dataset: 100%|██████████| 119/119 [00:57<00:00,  2.07it/s, Completed]                                           \n",
      "Generate report structure: 100%|██████████| 1/1 [00:03<00:00,  3.82s/it]\n",
      "Render HTML: 100%|██████████| 1/1 [00:02<00:00,  2.54s/it]\n",
      "Export report to file: 100%|██████████| 1/1 [00:00<00:00, 39.61it/s]\n"
     ]
    }
   ],
   "source": [
    "from ydata_profiling import ProfileReport\n",
    "\n",
    "profile = ProfileReport(dfy, title=\"Profiling report\")\n",
    "profile.to_file(\"dataset_profiling_cpt.html\")"
   ]
  },
  {
   "cell_type": "markdown",
   "metadata": {},
   "source": [
    "What do you need to check in the dataset?\n",
    "- What distributions do the features have?\n",
    "- Are there any missing values?\n",
    "- Are there any duplicates?\n",
    "- Are there any outliers? Be cautious with this one, as outliers can be valid data points.\n",
    "- Are there any relationships between the features? Some features might be removed if they are highly correlated.\n",
    "- Are there any relationships between the features and the target variable? Only in regression.\n",
    "- Are there any relationships between the features and the target variable that are not linear? Only in regression.\n",
    "- Are the labels balanced?\n"
   ]
  },
  {
   "cell_type": "markdown",
   "metadata": {},
   "source": [
    "Trends in the data\n",
    "- Not normally distributed\n",
    "- Duplicate values\n",
    "- Correlated features\n",
    "-Outliers present"
   ]
  },
  {
   "cell_type": "markdown",
   "metadata": {},
   "source": [
    "## Preprocessing"
   ]
  },
  {
   "cell_type": "code",
   "execution_count": 16,
   "metadata": {},
   "outputs": [
    {
     "data": {
      "text/plain": [
       "(1028487, 13)"
      ]
     },
     "execution_count": 16,
     "metadata": {},
     "output_type": "execute_result"
    }
   ],
   "source": [
    "df.shape"
   ]
  },
  {
   "cell_type": "markdown",
   "metadata": {},
   "source": [
    "Duplicate values"
   ]
  },
  {
   "cell_type": "code",
   "execution_count": 24,
   "metadata": {},
   "outputs": [
    {
     "data": {
      "text/plain": [
       "(1016728, 13)"
      ]
     },
     "execution_count": 24,
     "metadata": {},
     "output_type": "execute_result"
    }
   ],
   "source": [
    "df = df.drop_duplicates(subset=FEATURES)\n",
    "df.shape"
   ]
  },
  {
   "cell_type": "markdown",
   "metadata": {},
   "source": [
    "### Outliers"
   ]
  },
  {
   "cell_type": "markdown",
   "metadata": {},
   "source": [
    "Hardcoded values (values that are not possible in the real world) are removed."
   ]
  },
  {
   "cell_type": "code",
   "execution_count": 25,
   "metadata": {},
   "outputs": [
    {
     "data": {
      "text/plain": [
       "(890425, 13)"
      ]
     },
     "execution_count": 25,
     "metadata": {},
     "output_type": "execute_result"
    }
   ],
   "source": [
    "# hardcoded\n",
    "df = df[df['qc (MPa)'] > 0]\n",
    "df = df[df['u0 (kPa)'] >= 0]\n",
    "df = df[df['Qtn (-)'] > 0]\n",
    "df = df[(df['fs (kPa)'] < 1200) & (df['fs (kPa)'] > 0)]\n",
    "# df = df[(df['Rf (%)'] < 10) & (df['Rf (%)'] > 0)]\n",
    "df = df[df['Rf (%)'] > 0]\n",
    "df = df[(df['Fr (%)'] < 10) & (df['Fr (%)'] > 0)]\n",
    "# skip samples with label 3.0\n",
    "# df = df[df['Oberhollenzer_classes'] != 3.0] # due to low sample size\n",
    "df = df[df['Oberhollenzer_classes'] != 0.0] # due to low sample size\n",
    "df.shape"
   ]
  },
  {
   "cell_type": "code",
   "execution_count": 27,
   "metadata": {},
   "outputs": [],
   "source": [
    "%matplotlib inline"
   ]
  },
  {
   "cell_type": "markdown",
   "metadata": {},
   "source": [
    "Univariate outlier detection - we exemplify for one feature"
   ]
  },
  {
   "cell_type": "code",
   "execution_count": 30,
   "metadata": {},
   "outputs": [
    {
     "data": {
      "image/png": "[encoded data removed]",
      "text/plain": [
       "<Figure size 640x480 with 1 Axes>"
      ]
     },
     "metadata": {},
     "output_type": "display_data"
    }
   ],
   "source": [
    "import matplotlib.pyplot as plt\n",
    "df[\"Qtn (-)\"].hist(bins=100)\n",
    "plt.show()"
   ]
  },
  {
   "cell_type": "code",
   "execution_count": 33,
   "metadata": {},
   "outputs": [],
   "source": [
    "# univariate\n",
    "from pyod.models.mad import MAD\n",
    "\n",
    "threshold = 7.0  # Typical value, can be adjusted for sensitivity\n",
    "mad = MAD(threshold=threshold)\n",
    "\n",
    "# Fit the model on the column\n",
    "mad.fit(df[['Qtn (-)']])\n",
    "\n",
    "# Predict outliers (1 for outlier, 0 for inlier)\n",
    "outliers = mad.predict(df[['Qtn (-)']])\n",
    "\n",
    "# Filter the DataFrame to exclude outliers\n",
    "df_no_outliers = df[outliers == 0]"
   ]
  },
  {
   "cell_type": "code",
   "execution_count": 34,
   "metadata": {},
   "outputs": [
    {
     "data": {
      "text/plain": [
       "np.int64(55426)"
      ]
     },
     "execution_count": 34,
     "metadata": {},
     "output_type": "execute_result"
    }
   ],
   "source": [
    "sum(outliers)"
   ]
  },
  {
   "cell_type": "code",
   "execution_count": 35,
   "metadata": {},
   "outputs": [
    {
     "data": {
      "text/plain": [
       "<Axes: >"
      ]
     },
     "execution_count": 35,
     "metadata": {},
     "output_type": "execute_result"
    },
    {
     "data": {
      "image/png": "[encoded data removed]",
      "text/plain": [
       "<Figure size 640x480 with 1 Axes>"
      ]
     },
     "metadata": {},
     "output_type": "display_data"
    }
   ],
   "source": [
    "df_no_outliers[\"Qtn (-)\"].hist(bins=100)"
   ]
  },
  {
   "cell_type": "markdown",
   "metadata": {},
   "source": [
    "Multivariate outlier detection"
   ]
  },
  {
   "cell_type": "code",
   "execution_count": 36,
   "metadata": {},
   "outputs": [
    {
     "name": "stdout",
     "output_type": "stream",
     "text": [
      "<class 'pandas.core.frame.DataFrame'>\n",
      "Index: 890425 entries, 1486548 to 2516970\n",
      "Data columns (total 9 columns):\n",
      " #   Column      Non-Null Count   Dtype  \n",
      "---  ------      --------------   -----  \n",
      " 0   Depth (m)   890425 non-null  float64\n",
      " 1   qc (MPa)    890425 non-null  float64\n",
      " 2   fs (kPa)    890425 non-null  float64\n",
      " 3   Rf (%)      890425 non-null  float64\n",
      " 4   σ,v (kPa)   890425 non-null  float64\n",
      " 5   u0 (kPa)    890425 non-null  float64\n",
      " 6   σ',v (kPa)  890425 non-null  float64\n",
      " 7   Qtn (-)     890425 non-null  float64\n",
      " 8   Fr (%)      890425 non-null  float64\n",
      "dtypes: float64(9)\n",
      "memory usage: 67.9 MB\n"
     ]
    }
   ],
   "source": [
    "df[FEATURES].info()"
   ]
  },
  {
   "cell_type": "code",
   "execution_count": 37,
   "metadata": {},
   "outputs": [
    {
     "name": "stderr",
     "output_type": "stream",
     "text": [
      "c:\\Users\\NOSOGH\\AppData\\Local\\pypoetry\\Cache\\virtualenvs\\cpt-to-soiltype-KPmae4HV-py3.11\\Lib\\site-packages\\sklearn\\base.py:486: UserWarning: X has feature names, but IsolationForest was fitted without feature names\n",
      "  warnings.warn(\n"
     ]
    },
    {
     "name": "stdout",
     "output_type": "stream",
     "text": [
      "Number of outliers with Isolation Forest: 13\n",
      "Percentage of outliers: 0.0000\n",
      "Outlier samples:\n",
      "           ID test_type    basin_valley  Depth (m)  qc (MPa)  fs (kPa)  Rf (%)  \\\n",
      "1749143  972      SCPT  Salzburg basin      74.91     10.28    369.90    3.60   \n",
      "1749144  972      SCPT  Salzburg basin      74.92     10.13    383.70    3.79   \n",
      "1749145  972      SCPT  Salzburg basin      74.93     10.33    389.30    3.77   \n",
      "1749146  972      SCPT  Salzburg basin      74.94     10.53    394.80    3.75   \n",
      "1749147  972      SCPT  Salzburg basin      74.95     13.75    395.10    2.87   \n",
      "1749148  972      SCPT  Salzburg basin      74.96     15.53    395.40    2.55   \n",
      "1749149  972      SCPT  Salzburg basin      74.97     19.37    410.70    2.12   \n",
      "1749150  972      SCPT  Salzburg basin      74.98     21.35    414.60    1.94   \n",
      "1749151  972      SCPT  Salzburg basin      74.99     23.61    410.50    1.74   \n",
      "1749152  972      SCPT  Salzburg basin      75.00     24.01    406.40    1.69   \n",
      "1749153  972      SCPT  Salzburg basin      75.01     24.18    394.30    1.63   \n",
      "1749154  972      SCPT  Salzburg basin      75.02     22.17    382.10    1.72   \n",
      "1749155  972      SCPT  Salzburg basin      75.03     21.50    357.20    1.66   \n",
      "\n",
      "         σ,v (kPa)  u0 (kPa)  σ',v (kPa)  Qtn (-)  Fr (%)  \\\n",
      "1749143    1423.29    734.87      688.42    12.87    4.18   \n",
      "1749144    1423.48    734.97      688.51    12.64    4.41   \n",
      "1749145    1423.67    735.06      688.61    12.93    4.37   \n",
      "1749146    1423.86    735.16      688.70    13.22    4.34   \n",
      "1749147    1424.05    735.26      688.79    17.90    3.20   \n",
      "1749148    1424.24    735.36      688.88    20.47    2.80   \n",
      "1749149    1424.43    735.46      688.97    26.05    2.29   \n",
      "1749150    1424.62    735.55      689.07    28.91    2.08   \n",
      "1749151    1424.81    735.65      689.16    32.20    1.85   \n",
      "1749152    1425.00    735.75      689.25    32.76    1.80   \n",
      "1749153    1425.19    735.85      689.34    33.01    1.73   \n",
      "1749154    1425.38    735.95      689.43    30.09    1.84   \n",
      "1749155    1425.57    736.04      689.53    29.11    1.78   \n",
      "\n",
      "         Oberhollenzer_classes  \n",
      "1749143                   2.00  \n",
      "1749144                   2.00  \n",
      "1749145                   2.00  \n",
      "1749146                   2.00  \n",
      "1749147                   2.00  \n",
      "1749148                   2.00  \n",
      "1749149                   2.00  \n",
      "1749150                   2.00  \n",
      "1749151                   2.00  \n",
      "1749152                   2.00  \n",
      "1749153                   2.00  \n",
      "1749154                   2.00  \n",
      "1749155                   2.00  \n"
     ]
    }
   ],
   "source": [
    "from pyod.models.iforest import IForest\n",
    "\n",
    "outlier_confidence_threshold = 0.95  # Adjust threshold for your use case\n",
    "\n",
    "# Initialize and fit the Isolation Forest model\n",
    "iforest = IForest(n_estimators=100)\n",
    "iforest.fit(df[FEATURES])\n",
    "\n",
    "# Get the outlier probabilities\n",
    "probs = iforest.predict_proba(df[FEATURES])[:, 1]\n",
    "\n",
    "# Create a mask for outliers based on the confidence threshold\n",
    "is_outlier = probs > outlier_confidence_threshold\n",
    "outliers = df[is_outlier]\n",
    "non_outliers = df[~is_outlier]\n",
    "\n",
    "# Display results\n",
    "num_outliers = len(outliers)\n",
    "print(f\"Number of outliers with Isolation Forest: {num_outliers}\")\n",
    "print(f\"Percentage of outliers: {num_outliers / len(df):.4f}\")\n",
    "print(\"Outlier samples:\\n\", outliers)\n",
    "\n",
    "# Cleaned DataFrame excluding outliers\n",
    "df_cleaned = df[~is_outlier]"
   ]
  },
  {
   "cell_type": "markdown",
   "metadata": {},
   "source": [
    "A classic splitting of the dataset in train and test sets"
   ]
  },
  {
   "cell_type": "code",
   "execution_count": 42,
   "metadata": {},
   "outputs": [],
   "source": [
    "from sklearn.model_selection import train_test_split\n",
    "\n",
    "X = df_cleaned[FEATURES]\n",
    "y = df_cleaned['Oberhollenzer_classes']\n",
    "seed = 10\n",
    "test_size = 0.25\n",
    "train, test = train_test_split(df_cleaned, test_size=test_size, random_state=seed, stratify=y)"
   ]
  },
  {
   "cell_type": "code",
   "execution_count": 43,
   "metadata": {},
   "outputs": [
    {
     "data": {
      "text/plain": [
       "((667809, 13), (222603, 13))"
      ]
     },
     "execution_count": 43,
     "metadata": {},
     "output_type": "execute_result"
    }
   ],
   "source": [
    "train.shape, test.shape"
   ]
  },
  {
   "cell_type": "code",
   "execution_count": 44,
   "metadata": {},
   "outputs": [
    {
     "data": {
      "text/plain": [
       "Oberhollenzer_classes\n",
       "5.00   0.23\n",
       "2.00   0.20\n",
       "6.00   0.19\n",
       "7.00   0.17\n",
       "4.00   0.11\n",
       "1.00   0.10\n",
       "3.00   0.00\n",
       "Name: proportion, dtype: float64"
      ]
     },
     "execution_count": 44,
     "metadata": {},
     "output_type": "execute_result"
    }
   ],
   "source": [
    "train[\"Oberhollenzer_classes\"].value_counts(normalize=True)"
   ]
  },
  {
   "cell_type": "code",
   "execution_count": 45,
   "metadata": {},
   "outputs": [
    {
     "data": {
      "text/plain": [
       "Oberhollenzer_classes\n",
       "5.00   0.23\n",
       "2.00   0.20\n",
       "6.00   0.19\n",
       "7.00   0.17\n",
       "4.00   0.11\n",
       "1.00   0.10\n",
       "3.00   0.00\n",
       "Name: proportion, dtype: float64"
      ]
     },
     "execution_count": 45,
     "metadata": {},
     "output_type": "execute_result"
    }
   ],
   "source": [
    "test[\"Oberhollenzer_classes\"].value_counts(normalize=True)"
   ]
  },
  {
   "cell_type": "markdown",
   "metadata": {},
   "source": [
    "Typical geotechnical problem: data from same borehole should not be split between train and test set. Then there is a risk of data leakage."
   ]
  },
  {
   "cell_type": "code",
   "execution_count": 47,
   "metadata": {},
   "outputs": [
    {
     "data": {
      "text/plain": [
       "array([1281, 1114, 1253,  981, 1082,  930, 1105, 1277, 1280,  989, 1129,\n",
       "        976, 1036,  906,  887,  916, 1191,  862,  947,  980, 1312,  934,\n",
       "       1230,  951, 1293, 1151, 1288, 1240,  926, 1015,  997, 1226, 1042,\n",
       "        963, 1035, 1206,  902,  877, 1128,  914,  959, 1005, 1187,  960,\n",
       "        888,  955, 1224, 1063, 1025,  925, 1133, 1051,  971, 1266, 1198,\n",
       "        919, 1012, 1217, 1077,  908, 1267, 1299,  907,  937, 1022, 1270,\n",
       "       1201, 1180,  942,  956,  879, 1149, 1043, 1101,  867, 1172,  851,\n",
       "        909,  913,  875, 1222, 1075, 1066, 1296, 1234,  870, 1131, 1039,\n",
       "       1059, 1132, 1018, 1071, 1200,  974, 1047, 1165, 1079,  954, 1155,\n",
       "       1319, 1190, 1150, 1127,  886,  988, 1189, 1116, 1097, 1092, 1062,\n",
       "       1307, 1303, 1245, 1302, 1186,  970,  885, 1122, 1248,  869, 1156,\n",
       "        982, 1054, 1158, 1237, 1041, 1050,  958, 1099,  855,  998, 1218,\n",
       "       1214, 1049, 1009, 1271, 1056, 1328,  871, 1167,  977,  899, 1160,\n",
       "       1300, 1202, 1324, 1103, 1211, 1252, 1236,  967, 1123, 1290,  849,\n",
       "       1153,  905, 1272, 1231, 1228,  933, 1268, 1057, 1264, 1323, 1038,\n",
       "        936,  896, 1178, 1014, 1330, 1285, 1301, 1185, 1110,  987, 1204,\n",
       "       1297, 1048, 1032,  859, 1111,  882, 1246, 1115, 1338,  953,  889,\n",
       "        878, 1067, 1286, 1021, 1305, 1174, 1058, 1003, 1333,  880, 1107,\n",
       "       1065,  986, 1261, 1233, 1020, 1326, 1081, 1076, 1023, 1210, 1119,\n",
       "        965, 1235,  898, 1287, 1278, 1241,  932,  945,  917, 1177,  946,\n",
       "        872, 1106, 1096, 1229, 1011, 1322,  994, 1061, 1298, 1243,  940,\n",
       "        891, 1085, 1192, 1215, 1247,  903, 1030, 1126, 1304, 1239,  901,\n",
       "        864, 1244, 1193, 1195, 1125, 1138,  852,  873,  978, 1017, 1053,\n",
       "        895, 1258, 1208, 1087, 1292, 1089,  892, 1084, 1257,  929, 1037,\n",
       "       1313, 1072, 1121,  962,  861, 1000, 1086,  935, 1098,  984,  993,\n",
       "       1259, 1124, 1216, 1143, 1034, 1220, 1159, 1260, 1273, 1274,  854,\n",
       "        983,  894, 1207, 1102, 1142, 1137, 1055,  985,  995, 1282, 1316,\n",
       "        921,  968, 1289, 1336, 1249, 1068,  924, 1332, 1318, 1100,  944,\n",
       "       1263, 1262, 1306,  943,  868, 1136, 1145, 1166,  881, 1176,  990,\n",
       "        939, 1010, 1139, 1197, 1203,  991, 1238, 1265, 1095,  863,  927,\n",
       "       1317, 1031, 1029, 1320, 1052,  883,  912,  972, 1219, 1199,  904,\n",
       "       1251, 1091, 1212,  866, 1227, 1276,  890, 1108,  923,  858, 1334,\n",
       "       1269, 1073, 1329, 1008,  973, 1225, 1175,  865,  975, 1117])"
      ]
     },
     "execution_count": 47,
     "metadata": {},
     "output_type": "execute_result"
    }
   ],
   "source": [
    "unique_ids = df['ID'].unique()\n",
    "train_ids, _ = train_test_split(unique_ids, test_size=test_size, random_state=seed)\n",
    "train_ids"
   ]
  },
  {
   "cell_type": "code",
   "execution_count": 48,
   "metadata": {},
   "outputs": [],
   "source": [
    "train_df = df[df['ID'].isin(train_ids)]\n",
    "test_df = df[~df['ID'].isin(train_ids)]"
   ]
  },
  {
   "cell_type": "code",
   "execution_count": 49,
   "metadata": {},
   "outputs": [
    {
     "data": {
      "text/plain": [
       "((661646, 13), (228779, 13))"
      ]
     },
     "execution_count": 49,
     "metadata": {},
     "output_type": "execute_result"
    }
   ],
   "source": [
    "train_df.shape, test_df.shape"
   ]
  },
  {
   "cell_type": "code",
   "execution_count": 50,
   "metadata": {},
   "outputs": [
    {
     "data": {
      "text/plain": [
       "Oberhollenzer_classes\n",
       "5.00   0.24\n",
       "7.00   0.19\n",
       "6.00   0.18\n",
       "2.00   0.18\n",
       "4.00   0.11\n",
       "1.00   0.10\n",
       "3.00   0.00\n",
       "Name: proportion, dtype: float64"
      ]
     },
     "execution_count": 50,
     "metadata": {},
     "output_type": "execute_result"
    }
   ],
   "source": [
    "train_df[\"Oberhollenzer_classes\"].value_counts(normalize=True)"
   ]
  },
  {
   "cell_type": "code",
   "execution_count": 51,
   "metadata": {},
   "outputs": [
    {
     "data": {
      "text/plain": [
       "Oberhollenzer_classes\n",
       "2.00   0.26\n",
       "6.00   0.22\n",
       "5.00   0.19\n",
       "7.00   0.12\n",
       "4.00   0.11\n",
       "1.00   0.09\n",
       "3.00   0.01\n",
       "Name: proportion, dtype: float64"
      ]
     },
     "execution_count": 51,
     "metadata": {},
     "output_type": "execute_result"
    }
   ],
   "source": [
    "test_df[\"Oberhollenzer_classes\"].value_counts(normalize=True)"
   ]
  },
  {
   "cell_type": "code",
   "execution_count": 52,
   "metadata": {},
   "outputs": [
    {
     "name": "stderr",
     "output_type": "stream",
     "text": [
      "Summarize dataset: 100%|██████████| 100/100 [00:29<00:00,  3.36it/s, Completed]                           \n",
      "Summarize dataset: 100%|██████████| 119/119 [00:25<00:00,  4.76it/s, Completed]                                           \n",
      "Generate report structure: 100%|██████████| 1/1 [00:05<00:00,  5.85s/it]\n",
      "Render HTML: 100%|██████████| 1/1 [00:06<00:00,  6.09s/it]\n",
      "Export report to file: 100%|██████████| 1/1 [00:00<00:00, 25.38it/s]\n"
     ]
    }
   ],
   "source": [
    "# another round in ydate-profiling with splitted dataset\n",
    "from ydata_profiling import ProfileReport\n",
    "dfy_train = train_df.copy()[FEATURES + LABELS_O]\n",
    "dfy_test = test_df.copy()[FEATURES + LABELS_O]\n",
    "dfy_train['Oberhollenzer_classes'] = dfy_train['Oberhollenzer_classes'].astype(str)\n",
    "dfy_test['Oberhollenzer_classes'] = dfy_test['Oberhollenzer_classes'].astype(str)\n",
    "profile_train = ProfileReport(dfy_train, title=\"Profiling report - Train\")\n",
    "profile_test = ProfileReport(dfy_test, title=\"Profiling report - Test\")\n",
    "comparison_report = profile_train.compare(profile_test)\n",
    "comparison_report.to_file(\"dataset_profiling_comparison_cpt.html\")"
   ]
  }
 ],
 "metadata": {
  "kernelspec": {
   "display_name": "cpt-to-soiltype-KPmae4HV-py3.11",
   "language": "python",
   "name": "python3"
  },
  "language_info": {
   "codemirror_mode": {
    "name": "ipython",
    "version": 3
   },
   "file_extension": ".py",
   "mimetype": "text/x-python",
   "name": "python",
   "nbconvert_exporter": "python",
   "pygments_lexer": "ipython3",
   "version": "3.11.9"
  }
 },
 "nbformat": 4,
 "nbformat_minor": 2
}
